{
 "cells": [
  {
   "cell_type": "code",
   "execution_count": 122,
   "outputs": [],
   "source": [
    "import pandas as pd\n"
   ],
   "metadata": {
    "collapsed": false
   }
  },
  {
   "cell_type": "markdown",
   "source": [
    "1. Data cleaning - we will read three csv files first"
   ],
   "metadata": {
    "collapsed": false
   }
  },
  {
   "cell_type": "code",
   "execution_count": 123,
   "outputs": [],
   "source": [
    "df_historical_data = pd.read_csv('fifa_worldcup_matches.csv')\n",
    "df_fixture = pd.read_csv('fifa_worldcup_fixture.csv')\n",
    "df_missing_data = pd.read_csv('fifa_worldcup_missing_data.csv')"
   ],
   "metadata": {
    "collapsed": false
   }
  },
  {
   "cell_type": "markdown",
   "source": [
    "1.1 cleaning df_fixtures"
   ],
   "metadata": {
    "collapsed": false
   }
  },
  {
   "cell_type": "code",
   "execution_count": 124,
   "outputs": [
    {
     "data": {
      "text/plain": "       Home Team  Match Scores     Away Team  year\n0         Qatar            0–2       Ecuador  2022\n1       Senegal            0–2   Netherlands  2022\n2         Qatar            1–3       Senegal  2022\n3   Netherlands            1–1       Ecuador  2022\n4       Ecuador            1–2       Senegal  2022\n..           ...           ...           ...   ...\n59      England            1–2        France  2022\n60    Argentina            3–0       Croatia  2022\n61       France            2–0       Morocco  2022\n62      Croatia            2–1       Morocco  2022\n63    Argentina   3–3 (a.e.t.)        France  2022\n\n[64 rows x 4 columns]",
      "text/html": "<div>\n<style scoped>\n    .dataframe tbody tr th:only-of-type {\n        vertical-align: middle;\n    }\n\n    .dataframe tbody tr th {\n        vertical-align: top;\n    }\n\n    .dataframe thead th {\n        text-align: right;\n    }\n</style>\n<table border=\"1\" class=\"dataframe\">\n  <thead>\n    <tr style=\"text-align: right;\">\n      <th></th>\n      <th>Home Team</th>\n      <th>Match Scores</th>\n      <th>Away Team</th>\n      <th>year</th>\n    </tr>\n  </thead>\n  <tbody>\n    <tr>\n      <th>0</th>\n      <td>Qatar</td>\n      <td>0–2</td>\n      <td>Ecuador</td>\n      <td>2022</td>\n    </tr>\n    <tr>\n      <th>1</th>\n      <td>Senegal</td>\n      <td>0–2</td>\n      <td>Netherlands</td>\n      <td>2022</td>\n    </tr>\n    <tr>\n      <th>2</th>\n      <td>Qatar</td>\n      <td>1–3</td>\n      <td>Senegal</td>\n      <td>2022</td>\n    </tr>\n    <tr>\n      <th>3</th>\n      <td>Netherlands</td>\n      <td>1–1</td>\n      <td>Ecuador</td>\n      <td>2022</td>\n    </tr>\n    <tr>\n      <th>4</th>\n      <td>Ecuador</td>\n      <td>1–2</td>\n      <td>Senegal</td>\n      <td>2022</td>\n    </tr>\n    <tr>\n      <th>...</th>\n      <td>...</td>\n      <td>...</td>\n      <td>...</td>\n      <td>...</td>\n    </tr>\n    <tr>\n      <th>59</th>\n      <td>England</td>\n      <td>1–2</td>\n      <td>France</td>\n      <td>2022</td>\n    </tr>\n    <tr>\n      <th>60</th>\n      <td>Argentina</td>\n      <td>3–0</td>\n      <td>Croatia</td>\n      <td>2022</td>\n    </tr>\n    <tr>\n      <th>61</th>\n      <td>France</td>\n      <td>2–0</td>\n      <td>Morocco</td>\n      <td>2022</td>\n    </tr>\n    <tr>\n      <th>62</th>\n      <td>Croatia</td>\n      <td>2–1</td>\n      <td>Morocco</td>\n      <td>2022</td>\n    </tr>\n    <tr>\n      <th>63</th>\n      <td>Argentina</td>\n      <td>3–3 (a.e.t.)</td>\n      <td>France</td>\n      <td>2022</td>\n    </tr>\n  </tbody>\n</table>\n<p>64 rows × 4 columns</p>\n</div>"
     },
     "execution_count": 124,
     "metadata": {},
     "output_type": "execute_result"
    }
   ],
   "source": [
    "df_fixture"
   ],
   "metadata": {
    "collapsed": false
   }
  },
  {
   "cell_type": "markdown",
   "source": [
    "Reremoving the blnck spaces\n"
   ],
   "metadata": {
    "collapsed": false
   }
  },
  {
   "cell_type": "code",
   "execution_count": 125,
   "outputs": [],
   "source": [
    "df_fixture['Home Team'] = df_fixture['Home Team'].str.strip()\n",
    "df_fixture['Away Team'] = df_fixture['Away Team'].str.strip()"
   ],
   "metadata": {
    "collapsed": false
   }
  },
  {
   "cell_type": "code",
   "execution_count": 126,
   "outputs": [
    {
     "data": {
      "text/plain": "      Home Team  Match Scores    Away Team  year\n0         Qatar           0–2      Ecuador  2022\n1       Senegal           0–2  Netherlands  2022\n2         Qatar           1–3      Senegal  2022\n3   Netherlands           1–1      Ecuador  2022\n4       Ecuador           1–2      Senegal  2022\n..          ...           ...          ...   ...\n59      England           1–2       France  2022\n60    Argentina           3–0      Croatia  2022\n61       France           2–0      Morocco  2022\n62      Croatia           2–1      Morocco  2022\n63    Argentina  3–3 (a.e.t.)       France  2022\n\n[64 rows x 4 columns]",
      "text/html": "<div>\n<style scoped>\n    .dataframe tbody tr th:only-of-type {\n        vertical-align: middle;\n    }\n\n    .dataframe tbody tr th {\n        vertical-align: top;\n    }\n\n    .dataframe thead th {\n        text-align: right;\n    }\n</style>\n<table border=\"1\" class=\"dataframe\">\n  <thead>\n    <tr style=\"text-align: right;\">\n      <th></th>\n      <th>Home Team</th>\n      <th>Match Scores</th>\n      <th>Away Team</th>\n      <th>year</th>\n    </tr>\n  </thead>\n  <tbody>\n    <tr>\n      <th>0</th>\n      <td>Qatar</td>\n      <td>0–2</td>\n      <td>Ecuador</td>\n      <td>2022</td>\n    </tr>\n    <tr>\n      <th>1</th>\n      <td>Senegal</td>\n      <td>0–2</td>\n      <td>Netherlands</td>\n      <td>2022</td>\n    </tr>\n    <tr>\n      <th>2</th>\n      <td>Qatar</td>\n      <td>1–3</td>\n      <td>Senegal</td>\n      <td>2022</td>\n    </tr>\n    <tr>\n      <th>3</th>\n      <td>Netherlands</td>\n      <td>1–1</td>\n      <td>Ecuador</td>\n      <td>2022</td>\n    </tr>\n    <tr>\n      <th>4</th>\n      <td>Ecuador</td>\n      <td>1–2</td>\n      <td>Senegal</td>\n      <td>2022</td>\n    </tr>\n    <tr>\n      <th>...</th>\n      <td>...</td>\n      <td>...</td>\n      <td>...</td>\n      <td>...</td>\n    </tr>\n    <tr>\n      <th>59</th>\n      <td>England</td>\n      <td>1–2</td>\n      <td>France</td>\n      <td>2022</td>\n    </tr>\n    <tr>\n      <th>60</th>\n      <td>Argentina</td>\n      <td>3–0</td>\n      <td>Croatia</td>\n      <td>2022</td>\n    </tr>\n    <tr>\n      <th>61</th>\n      <td>France</td>\n      <td>2–0</td>\n      <td>Morocco</td>\n      <td>2022</td>\n    </tr>\n    <tr>\n      <th>62</th>\n      <td>Croatia</td>\n      <td>2–1</td>\n      <td>Morocco</td>\n      <td>2022</td>\n    </tr>\n    <tr>\n      <th>63</th>\n      <td>Argentina</td>\n      <td>3–3 (a.e.t.)</td>\n      <td>France</td>\n      <td>2022</td>\n    </tr>\n  </tbody>\n</table>\n<p>64 rows × 4 columns</p>\n</div>"
     },
     "execution_count": 126,
     "metadata": {},
     "output_type": "execute_result"
    }
   ],
   "source": [
    "df_fixture"
   ],
   "metadata": {
    "collapsed": false
   }
  },
  {
   "cell_type": "markdown",
   "source": [
    "1.2 Cleaning df_missing_data and adding it tp df_historical_data\n",
    "  >>  * here we will check for null data\n",
    "  >>  * if null data exist, we will remove it\n",
    "  >>  * once it is done we will now concat dfs and clean data"
   ],
   "metadata": {
    "collapsed": false
   }
  },
  {
   "cell_type": "code",
   "execution_count": 127,
   "outputs": [
    {
     "data": {
      "text/plain": "    home score away  year\n396  NaN   NaN  NaN  2010\n397  NaN   NaN  NaN  2010\n398  NaN   NaN  NaN  2010\n399  NaN   NaN  NaN  2010\n400  NaN   NaN  NaN  2010\n..   ...   ...  ...   ...\n455  NaN   NaN  NaN  2010\n456  NaN   NaN  NaN  2010\n457  NaN   NaN  NaN  2010\n458  NaN   NaN  NaN  2010\n459  NaN   NaN  NaN  2010\n\n[64 rows x 4 columns]",
      "text/html": "<div>\n<style scoped>\n    .dataframe tbody tr th:only-of-type {\n        vertical-align: middle;\n    }\n\n    .dataframe tbody tr th {\n        vertical-align: top;\n    }\n\n    .dataframe thead th {\n        text-align: right;\n    }\n</style>\n<table border=\"1\" class=\"dataframe\">\n  <thead>\n    <tr style=\"text-align: right;\">\n      <th></th>\n      <th>home</th>\n      <th>score</th>\n      <th>away</th>\n      <th>year</th>\n    </tr>\n  </thead>\n  <tbody>\n    <tr>\n      <th>396</th>\n      <td>NaN</td>\n      <td>NaN</td>\n      <td>NaN</td>\n      <td>2010</td>\n    </tr>\n    <tr>\n      <th>397</th>\n      <td>NaN</td>\n      <td>NaN</td>\n      <td>NaN</td>\n      <td>2010</td>\n    </tr>\n    <tr>\n      <th>398</th>\n      <td>NaN</td>\n      <td>NaN</td>\n      <td>NaN</td>\n      <td>2010</td>\n    </tr>\n    <tr>\n      <th>399</th>\n      <td>NaN</td>\n      <td>NaN</td>\n      <td>NaN</td>\n      <td>2010</td>\n    </tr>\n    <tr>\n      <th>400</th>\n      <td>NaN</td>\n      <td>NaN</td>\n      <td>NaN</td>\n      <td>2010</td>\n    </tr>\n    <tr>\n      <th>...</th>\n      <td>...</td>\n      <td>...</td>\n      <td>...</td>\n      <td>...</td>\n    </tr>\n    <tr>\n      <th>455</th>\n      <td>NaN</td>\n      <td>NaN</td>\n      <td>NaN</td>\n      <td>2010</td>\n    </tr>\n    <tr>\n      <th>456</th>\n      <td>NaN</td>\n      <td>NaN</td>\n      <td>NaN</td>\n      <td>2010</td>\n    </tr>\n    <tr>\n      <th>457</th>\n      <td>NaN</td>\n      <td>NaN</td>\n      <td>NaN</td>\n      <td>2010</td>\n    </tr>\n    <tr>\n      <th>458</th>\n      <td>NaN</td>\n      <td>NaN</td>\n      <td>NaN</td>\n      <td>2010</td>\n    </tr>\n    <tr>\n      <th>459</th>\n      <td>NaN</td>\n      <td>NaN</td>\n      <td>NaN</td>\n      <td>2010</td>\n    </tr>\n  </tbody>\n</table>\n<p>64 rows × 4 columns</p>\n</div>"
     },
     "execution_count": 127,
     "metadata": {},
     "output_type": "execute_result"
    }
   ],
   "source": [
    "df_missing_data[df_missing_data['home'].isnull()]"
   ],
   "metadata": {
    "collapsed": false
   }
  },
  {
   "cell_type": "markdown",
   "source": [
    "Droping NaN values"
   ],
   "metadata": {
    "collapsed": false
   }
  },
  {
   "cell_type": "code",
   "execution_count": 128,
   "outputs": [],
   "source": [
    "df_missing_data.dropna(inplace=True)"
   ],
   "metadata": {
    "collapsed": false
   }
  },
  {
   "cell_type": "markdown",
   "source": [
    "Concatenating and dropping duplicates in the data frames of df_missing_data and df_historical_data"
   ],
   "metadata": {
    "collapsed": false
   }
  },
  {
   "cell_type": "code",
   "execution_count": 129,
   "outputs": [
    {
     "data": {
      "text/plain": "           home score            away  year\n0       France    4–1          Mexico  1930\n17     Uruguay    4–2       Argentina  1930\n16     Uruguay    6–1      Yugoslavia  1930\n15   Argentina    6–1   United States  1930\n14    Paraguay    1–0         Belgium  1930\n..          ...   ...             ...   ...\n419     Brazil    2–0      Costa Rica  2018\n420     Serbia    1–2     Switzerland  2018\n421     Serbia    0–2          Brazil  2018\n408     France    1–0            Peru  2018\n450     Brazil    1–2         Belgium  2018\n\n[901 rows x 4 columns]",
      "text/html": "<div>\n<style scoped>\n    .dataframe tbody tr th:only-of-type {\n        vertical-align: middle;\n    }\n\n    .dataframe tbody tr th {\n        vertical-align: top;\n    }\n\n    .dataframe thead th {\n        text-align: right;\n    }\n</style>\n<table border=\"1\" class=\"dataframe\">\n  <thead>\n    <tr style=\"text-align: right;\">\n      <th></th>\n      <th>home</th>\n      <th>score</th>\n      <th>away</th>\n      <th>year</th>\n    </tr>\n  </thead>\n  <tbody>\n    <tr>\n      <th>0</th>\n      <td>France</td>\n      <td>4–1</td>\n      <td>Mexico</td>\n      <td>1930</td>\n    </tr>\n    <tr>\n      <th>17</th>\n      <td>Uruguay</td>\n      <td>4–2</td>\n      <td>Argentina</td>\n      <td>1930</td>\n    </tr>\n    <tr>\n      <th>16</th>\n      <td>Uruguay</td>\n      <td>6–1</td>\n      <td>Yugoslavia</td>\n      <td>1930</td>\n    </tr>\n    <tr>\n      <th>15</th>\n      <td>Argentina</td>\n      <td>6–1</td>\n      <td>United States</td>\n      <td>1930</td>\n    </tr>\n    <tr>\n      <th>14</th>\n      <td>Paraguay</td>\n      <td>1–0</td>\n      <td>Belgium</td>\n      <td>1930</td>\n    </tr>\n    <tr>\n      <th>...</th>\n      <td>...</td>\n      <td>...</td>\n      <td>...</td>\n      <td>...</td>\n    </tr>\n    <tr>\n      <th>419</th>\n      <td>Brazil</td>\n      <td>2–0</td>\n      <td>Costa Rica</td>\n      <td>2018</td>\n    </tr>\n    <tr>\n      <th>420</th>\n      <td>Serbia</td>\n      <td>1–2</td>\n      <td>Switzerland</td>\n      <td>2018</td>\n    </tr>\n    <tr>\n      <th>421</th>\n      <td>Serbia</td>\n      <td>0–2</td>\n      <td>Brazil</td>\n      <td>2018</td>\n    </tr>\n    <tr>\n      <th>408</th>\n      <td>France</td>\n      <td>1–0</td>\n      <td>Peru</td>\n      <td>2018</td>\n    </tr>\n    <tr>\n      <th>450</th>\n      <td>Brazil</td>\n      <td>1–2</td>\n      <td>Belgium</td>\n      <td>2018</td>\n    </tr>\n  </tbody>\n</table>\n<p>901 rows × 4 columns</p>\n</div>"
     },
     "execution_count": 129,
     "metadata": {},
     "output_type": "execute_result"
    }
   ],
   "source": [
    "df_historical_data = pd.concat([df_historical_data, df_missing_data], ignore_index=True)\n",
    "df_historical_data.drop_duplicates(inplace=True)\n",
    "df_historical_data.sort_values('year', inplace=True)\n",
    "df_historical_data"
   ],
   "metadata": {
    "collapsed": false
   }
  },
  {
   "cell_type": "markdown",
   "source": [
    "1.3 Cleaning final data of df_historical_data file\n",
    ">> ** during the analysis i found that one of the matches ware result od walkoff and hence i will have to delete that match from oue dataset **\n",
    ">> ** match was between Swedan and Austria **\n"
   ],
   "metadata": {
    "collapsed": false
   }
  },
  {
   "cell_type": "code",
   "execution_count": 130,
   "outputs": [],
   "source": [
    "delete_index = df_historical_data[df_historical_data['home'].str.contains('Sweden') & df_historical_data['away'].str.contains('Austria')].index\n",
    "df_historical_data.drop(index=delete_index, inplace=True)"
   ],
   "metadata": {
    "collapsed": false
   }
  },
  {
   "cell_type": "code",
   "execution_count": 131,
   "outputs": [],
   "source": [
    "df_historical_data['score'] = df_historical_data['score'].str.replace('[^\\d–]', '', regex=True)\n",
    "df_historical_data['home'] = df_historical_data['home'].str.strip()\n",
    "df_historical_data['away'] = df_historical_data['away'].str.strip()"
   ],
   "metadata": {
    "collapsed": false
   }
  },
  {
   "cell_type": "code",
   "execution_count": 132,
   "outputs": [
    {
     "data": {
      "text/plain": "          home score           away  year\n0       France   4–1         Mexico  1930\n17     Uruguay   4–2      Argentina  1930\n16     Uruguay   6–1     Yugoslavia  1930\n15   Argentina   6–1  United States  1930\n14    Paraguay   1–0        Belgium  1930\n..         ...   ...            ...   ...\n419     Brazil   2–0     Costa Rica  2018\n420     Serbia   1–2    Switzerland  2018\n421     Serbia   0–2         Brazil  2018\n408     France   1–0           Peru  2018\n450     Brazil   1–2        Belgium  2018\n\n[900 rows x 4 columns]",
      "text/html": "<div>\n<style scoped>\n    .dataframe tbody tr th:only-of-type {\n        vertical-align: middle;\n    }\n\n    .dataframe tbody tr th {\n        vertical-align: top;\n    }\n\n    .dataframe thead th {\n        text-align: right;\n    }\n</style>\n<table border=\"1\" class=\"dataframe\">\n  <thead>\n    <tr style=\"text-align: right;\">\n      <th></th>\n      <th>home</th>\n      <th>score</th>\n      <th>away</th>\n      <th>year</th>\n    </tr>\n  </thead>\n  <tbody>\n    <tr>\n      <th>0</th>\n      <td>France</td>\n      <td>4–1</td>\n      <td>Mexico</td>\n      <td>1930</td>\n    </tr>\n    <tr>\n      <th>17</th>\n      <td>Uruguay</td>\n      <td>4–2</td>\n      <td>Argentina</td>\n      <td>1930</td>\n    </tr>\n    <tr>\n      <th>16</th>\n      <td>Uruguay</td>\n      <td>6–1</td>\n      <td>Yugoslavia</td>\n      <td>1930</td>\n    </tr>\n    <tr>\n      <th>15</th>\n      <td>Argentina</td>\n      <td>6–1</td>\n      <td>United States</td>\n      <td>1930</td>\n    </tr>\n    <tr>\n      <th>14</th>\n      <td>Paraguay</td>\n      <td>1–0</td>\n      <td>Belgium</td>\n      <td>1930</td>\n    </tr>\n    <tr>\n      <th>...</th>\n      <td>...</td>\n      <td>...</td>\n      <td>...</td>\n      <td>...</td>\n    </tr>\n    <tr>\n      <th>419</th>\n      <td>Brazil</td>\n      <td>2–0</td>\n      <td>Costa Rica</td>\n      <td>2018</td>\n    </tr>\n    <tr>\n      <th>420</th>\n      <td>Serbia</td>\n      <td>1–2</td>\n      <td>Switzerland</td>\n      <td>2018</td>\n    </tr>\n    <tr>\n      <th>421</th>\n      <td>Serbia</td>\n      <td>0–2</td>\n      <td>Brazil</td>\n      <td>2018</td>\n    </tr>\n    <tr>\n      <th>408</th>\n      <td>France</td>\n      <td>1–0</td>\n      <td>Peru</td>\n      <td>2018</td>\n    </tr>\n    <tr>\n      <th>450</th>\n      <td>Brazil</td>\n      <td>1–2</td>\n      <td>Belgium</td>\n      <td>2018</td>\n    </tr>\n  </tbody>\n</table>\n<p>900 rows × 4 columns</p>\n</div>"
     },
     "execution_count": 132,
     "metadata": {},
     "output_type": "execute_result"
    }
   ],
   "source": [
    "df_historical_data"
   ],
   "metadata": {
    "collapsed": false
   }
  },
  {
   "cell_type": "markdown",
   "source": [
    "Splitting the score column and splitting it to Goals scored for Home and Away team respectively and drop the score columns from table"
   ],
   "metadata": {
    "collapsed": false
   }
  },
  {
   "cell_type": "code",
   "execution_count": 133,
   "outputs": [],
   "source": [
    "df_historical_data[['HomeGoals','AwayGoals']] = df_historical_data['score'].str.split('–', expand=True)"
   ],
   "metadata": {
    "collapsed": false
   }
  },
  {
   "cell_type": "code",
   "execution_count": 134,
   "outputs": [
    {
     "data": {
      "text/plain": "          home score           away  year HomeGoals AwayGoals\n0       France   4–1         Mexico  1930         4         1\n17     Uruguay   4–2      Argentina  1930         4         2\n16     Uruguay   6–1     Yugoslavia  1930         6         1\n15   Argentina   6–1  United States  1930         6         1\n14    Paraguay   1–0        Belgium  1930         1         0\n..         ...   ...            ...   ...       ...       ...\n419     Brazil   2–0     Costa Rica  2018         2         0\n420     Serbia   1–2    Switzerland  2018         1         2\n421     Serbia   0–2         Brazil  2018         0         2\n408     France   1–0           Peru  2018         1         0\n450     Brazil   1–2        Belgium  2018         1         2\n\n[900 rows x 6 columns]",
      "text/html": "<div>\n<style scoped>\n    .dataframe tbody tr th:only-of-type {\n        vertical-align: middle;\n    }\n\n    .dataframe tbody tr th {\n        vertical-align: top;\n    }\n\n    .dataframe thead th {\n        text-align: right;\n    }\n</style>\n<table border=\"1\" class=\"dataframe\">\n  <thead>\n    <tr style=\"text-align: right;\">\n      <th></th>\n      <th>home</th>\n      <th>score</th>\n      <th>away</th>\n      <th>year</th>\n      <th>HomeGoals</th>\n      <th>AwayGoals</th>\n    </tr>\n  </thead>\n  <tbody>\n    <tr>\n      <th>0</th>\n      <td>France</td>\n      <td>4–1</td>\n      <td>Mexico</td>\n      <td>1930</td>\n      <td>4</td>\n      <td>1</td>\n    </tr>\n    <tr>\n      <th>17</th>\n      <td>Uruguay</td>\n      <td>4–2</td>\n      <td>Argentina</td>\n      <td>1930</td>\n      <td>4</td>\n      <td>2</td>\n    </tr>\n    <tr>\n      <th>16</th>\n      <td>Uruguay</td>\n      <td>6–1</td>\n      <td>Yugoslavia</td>\n      <td>1930</td>\n      <td>6</td>\n      <td>1</td>\n    </tr>\n    <tr>\n      <th>15</th>\n      <td>Argentina</td>\n      <td>6–1</td>\n      <td>United States</td>\n      <td>1930</td>\n      <td>6</td>\n      <td>1</td>\n    </tr>\n    <tr>\n      <th>14</th>\n      <td>Paraguay</td>\n      <td>1–0</td>\n      <td>Belgium</td>\n      <td>1930</td>\n      <td>1</td>\n      <td>0</td>\n    </tr>\n    <tr>\n      <th>...</th>\n      <td>...</td>\n      <td>...</td>\n      <td>...</td>\n      <td>...</td>\n      <td>...</td>\n      <td>...</td>\n    </tr>\n    <tr>\n      <th>419</th>\n      <td>Brazil</td>\n      <td>2–0</td>\n      <td>Costa Rica</td>\n      <td>2018</td>\n      <td>2</td>\n      <td>0</td>\n    </tr>\n    <tr>\n      <th>420</th>\n      <td>Serbia</td>\n      <td>1–2</td>\n      <td>Switzerland</td>\n      <td>2018</td>\n      <td>1</td>\n      <td>2</td>\n    </tr>\n    <tr>\n      <th>421</th>\n      <td>Serbia</td>\n      <td>0–2</td>\n      <td>Brazil</td>\n      <td>2018</td>\n      <td>0</td>\n      <td>2</td>\n    </tr>\n    <tr>\n      <th>408</th>\n      <td>France</td>\n      <td>1–0</td>\n      <td>Peru</td>\n      <td>2018</td>\n      <td>1</td>\n      <td>0</td>\n    </tr>\n    <tr>\n      <th>450</th>\n      <td>Brazil</td>\n      <td>1–2</td>\n      <td>Belgium</td>\n      <td>2018</td>\n      <td>1</td>\n      <td>2</td>\n    </tr>\n  </tbody>\n</table>\n<p>900 rows × 6 columns</p>\n</div>"
     },
     "execution_count": 134,
     "metadata": {},
     "output_type": "execute_result"
    }
   ],
   "source": [
    "df_historical_data"
   ],
   "metadata": {
    "collapsed": false
   }
  },
  {
   "cell_type": "code",
   "execution_count": 135,
   "outputs": [],
   "source": [
    "df_historical_data.drop('score', axis=1, inplace=True)"
   ],
   "metadata": {
    "collapsed": false
   }
  },
  {
   "cell_type": "code",
   "execution_count": 136,
   "outputs": [
    {
     "data": {
      "text/plain": "          home           away  year HomeGoals AwayGoals\n0       France         Mexico  1930         4         1\n17     Uruguay      Argentina  1930         4         2\n16     Uruguay     Yugoslavia  1930         6         1\n15   Argentina  United States  1930         6         1\n14    Paraguay        Belgium  1930         1         0\n..         ...            ...   ...       ...       ...\n419     Brazil     Costa Rica  2018         2         0\n420     Serbia    Switzerland  2018         1         2\n421     Serbia         Brazil  2018         0         2\n408     France           Peru  2018         1         0\n450     Brazil        Belgium  2018         1         2\n\n[900 rows x 5 columns]",
      "text/html": "<div>\n<style scoped>\n    .dataframe tbody tr th:only-of-type {\n        vertical-align: middle;\n    }\n\n    .dataframe tbody tr th {\n        vertical-align: top;\n    }\n\n    .dataframe thead th {\n        text-align: right;\n    }\n</style>\n<table border=\"1\" class=\"dataframe\">\n  <thead>\n    <tr style=\"text-align: right;\">\n      <th></th>\n      <th>home</th>\n      <th>away</th>\n      <th>year</th>\n      <th>HomeGoals</th>\n      <th>AwayGoals</th>\n    </tr>\n  </thead>\n  <tbody>\n    <tr>\n      <th>0</th>\n      <td>France</td>\n      <td>Mexico</td>\n      <td>1930</td>\n      <td>4</td>\n      <td>1</td>\n    </tr>\n    <tr>\n      <th>17</th>\n      <td>Uruguay</td>\n      <td>Argentina</td>\n      <td>1930</td>\n      <td>4</td>\n      <td>2</td>\n    </tr>\n    <tr>\n      <th>16</th>\n      <td>Uruguay</td>\n      <td>Yugoslavia</td>\n      <td>1930</td>\n      <td>6</td>\n      <td>1</td>\n    </tr>\n    <tr>\n      <th>15</th>\n      <td>Argentina</td>\n      <td>United States</td>\n      <td>1930</td>\n      <td>6</td>\n      <td>1</td>\n    </tr>\n    <tr>\n      <th>14</th>\n      <td>Paraguay</td>\n      <td>Belgium</td>\n      <td>1930</td>\n      <td>1</td>\n      <td>0</td>\n    </tr>\n    <tr>\n      <th>...</th>\n      <td>...</td>\n      <td>...</td>\n      <td>...</td>\n      <td>...</td>\n      <td>...</td>\n    </tr>\n    <tr>\n      <th>419</th>\n      <td>Brazil</td>\n      <td>Costa Rica</td>\n      <td>2018</td>\n      <td>2</td>\n      <td>0</td>\n    </tr>\n    <tr>\n      <th>420</th>\n      <td>Serbia</td>\n      <td>Switzerland</td>\n      <td>2018</td>\n      <td>1</td>\n      <td>2</td>\n    </tr>\n    <tr>\n      <th>421</th>\n      <td>Serbia</td>\n      <td>Brazil</td>\n      <td>2018</td>\n      <td>0</td>\n      <td>2</td>\n    </tr>\n    <tr>\n      <th>408</th>\n      <td>France</td>\n      <td>Peru</td>\n      <td>2018</td>\n      <td>1</td>\n      <td>0</td>\n    </tr>\n    <tr>\n      <th>450</th>\n      <td>Brazil</td>\n      <td>Belgium</td>\n      <td>2018</td>\n      <td>1</td>\n      <td>2</td>\n    </tr>\n  </tbody>\n</table>\n<p>900 rows × 5 columns</p>\n</div>"
     },
     "execution_count": 136,
     "metadata": {},
     "output_type": "execute_result"
    }
   ],
   "source": [
    "df_historical_data"
   ],
   "metadata": {
    "collapsed": false
   }
  },
  {
   "cell_type": "markdown",
   "source": [
    "Renaming the columns and changing the data types to make sure our data remains error free"
   ],
   "metadata": {
    "collapsed": false
   }
  },
  {
   "cell_type": "code",
   "execution_count": 137,
   "outputs": [],
   "source": [
    "df_historical_data.rename(columns={'home': 'HomeTeam', 'away': 'AwayTeam', 'year': 'Year'}, inplace=True)\n",
    "df_historical_data = df_historical_data.astype({'HomeGoals': int, 'AwayGoals': int, 'Year': int})"
   ],
   "metadata": {
    "collapsed": false
   }
  },
  {
   "cell_type": "code",
   "execution_count": 138,
   "outputs": [
    {
     "data": {
      "text/plain": "      HomeTeam       AwayTeam  Year  HomeGoals  AwayGoals\n0       France         Mexico  1930          4          1\n17     Uruguay      Argentina  1930          4          2\n16     Uruguay     Yugoslavia  1930          6          1\n15   Argentina  United States  1930          6          1\n14    Paraguay        Belgium  1930          1          0\n..         ...            ...   ...        ...        ...\n419     Brazil     Costa Rica  2018          2          0\n420     Serbia    Switzerland  2018          1          2\n421     Serbia         Brazil  2018          0          2\n408     France           Peru  2018          1          0\n450     Brazil        Belgium  2018          1          2\n\n[900 rows x 5 columns]",
      "text/html": "<div>\n<style scoped>\n    .dataframe tbody tr th:only-of-type {\n        vertical-align: middle;\n    }\n\n    .dataframe tbody tr th {\n        vertical-align: top;\n    }\n\n    .dataframe thead th {\n        text-align: right;\n    }\n</style>\n<table border=\"1\" class=\"dataframe\">\n  <thead>\n    <tr style=\"text-align: right;\">\n      <th></th>\n      <th>HomeTeam</th>\n      <th>AwayTeam</th>\n      <th>Year</th>\n      <th>HomeGoals</th>\n      <th>AwayGoals</th>\n    </tr>\n  </thead>\n  <tbody>\n    <tr>\n      <th>0</th>\n      <td>France</td>\n      <td>Mexico</td>\n      <td>1930</td>\n      <td>4</td>\n      <td>1</td>\n    </tr>\n    <tr>\n      <th>17</th>\n      <td>Uruguay</td>\n      <td>Argentina</td>\n      <td>1930</td>\n      <td>4</td>\n      <td>2</td>\n    </tr>\n    <tr>\n      <th>16</th>\n      <td>Uruguay</td>\n      <td>Yugoslavia</td>\n      <td>1930</td>\n      <td>6</td>\n      <td>1</td>\n    </tr>\n    <tr>\n      <th>15</th>\n      <td>Argentina</td>\n      <td>United States</td>\n      <td>1930</td>\n      <td>6</td>\n      <td>1</td>\n    </tr>\n    <tr>\n      <th>14</th>\n      <td>Paraguay</td>\n      <td>Belgium</td>\n      <td>1930</td>\n      <td>1</td>\n      <td>0</td>\n    </tr>\n    <tr>\n      <th>...</th>\n      <td>...</td>\n      <td>...</td>\n      <td>...</td>\n      <td>...</td>\n      <td>...</td>\n    </tr>\n    <tr>\n      <th>419</th>\n      <td>Brazil</td>\n      <td>Costa Rica</td>\n      <td>2018</td>\n      <td>2</td>\n      <td>0</td>\n    </tr>\n    <tr>\n      <th>420</th>\n      <td>Serbia</td>\n      <td>Switzerland</td>\n      <td>2018</td>\n      <td>1</td>\n      <td>2</td>\n    </tr>\n    <tr>\n      <th>421</th>\n      <td>Serbia</td>\n      <td>Brazil</td>\n      <td>2018</td>\n      <td>0</td>\n      <td>2</td>\n    </tr>\n    <tr>\n      <th>408</th>\n      <td>France</td>\n      <td>Peru</td>\n      <td>2018</td>\n      <td>1</td>\n      <td>0</td>\n    </tr>\n    <tr>\n      <th>450</th>\n      <td>Brazil</td>\n      <td>Belgium</td>\n      <td>2018</td>\n      <td>1</td>\n      <td>2</td>\n    </tr>\n  </tbody>\n</table>\n<p>900 rows × 5 columns</p>\n</div>"
     },
     "execution_count": 138,
     "metadata": {},
     "output_type": "execute_result"
    }
   ],
   "source": [
    "df_historical_data"
   ],
   "metadata": {
    "collapsed": false
   }
  },
  {
   "cell_type": "markdown",
   "source": [
    "Creating new columns with Total goals for a match (it includes away and home goals)"
   ],
   "metadata": {
    "collapsed": false
   }
  },
  {
   "cell_type": "code",
   "execution_count": 139,
   "outputs": [],
   "source": [
    "df_historical_data['TotalGoals'] = df_historical_data['HomeGoals'] + df_historical_data['AwayGoals']"
   ],
   "metadata": {
    "collapsed": false
   }
  },
  {
   "cell_type": "code",
   "execution_count": 140,
   "outputs": [
    {
     "data": {
      "text/plain": "      HomeTeam       AwayTeam  Year  HomeGoals  AwayGoals  TotalGoals\n0       France         Mexico  1930          4          1           5\n17     Uruguay      Argentina  1930          4          2           6\n16     Uruguay     Yugoslavia  1930          6          1           7\n15   Argentina  United States  1930          6          1           7\n14    Paraguay        Belgium  1930          1          0           1\n..         ...            ...   ...        ...        ...         ...\n419     Brazil     Costa Rica  2018          2          0           2\n420     Serbia    Switzerland  2018          1          2           3\n421     Serbia         Brazil  2018          0          2           2\n408     France           Peru  2018          1          0           1\n450     Brazil        Belgium  2018          1          2           3\n\n[900 rows x 6 columns]",
      "text/html": "<div>\n<style scoped>\n    .dataframe tbody tr th:only-of-type {\n        vertical-align: middle;\n    }\n\n    .dataframe tbody tr th {\n        vertical-align: top;\n    }\n\n    .dataframe thead th {\n        text-align: right;\n    }\n</style>\n<table border=\"1\" class=\"dataframe\">\n  <thead>\n    <tr style=\"text-align: right;\">\n      <th></th>\n      <th>HomeTeam</th>\n      <th>AwayTeam</th>\n      <th>Year</th>\n      <th>HomeGoals</th>\n      <th>AwayGoals</th>\n      <th>TotalGoals</th>\n    </tr>\n  </thead>\n  <tbody>\n    <tr>\n      <th>0</th>\n      <td>France</td>\n      <td>Mexico</td>\n      <td>1930</td>\n      <td>4</td>\n      <td>1</td>\n      <td>5</td>\n    </tr>\n    <tr>\n      <th>17</th>\n      <td>Uruguay</td>\n      <td>Argentina</td>\n      <td>1930</td>\n      <td>4</td>\n      <td>2</td>\n      <td>6</td>\n    </tr>\n    <tr>\n      <th>16</th>\n      <td>Uruguay</td>\n      <td>Yugoslavia</td>\n      <td>1930</td>\n      <td>6</td>\n      <td>1</td>\n      <td>7</td>\n    </tr>\n    <tr>\n      <th>15</th>\n      <td>Argentina</td>\n      <td>United States</td>\n      <td>1930</td>\n      <td>6</td>\n      <td>1</td>\n      <td>7</td>\n    </tr>\n    <tr>\n      <th>14</th>\n      <td>Paraguay</td>\n      <td>Belgium</td>\n      <td>1930</td>\n      <td>1</td>\n      <td>0</td>\n      <td>1</td>\n    </tr>\n    <tr>\n      <th>...</th>\n      <td>...</td>\n      <td>...</td>\n      <td>...</td>\n      <td>...</td>\n      <td>...</td>\n      <td>...</td>\n    </tr>\n    <tr>\n      <th>419</th>\n      <td>Brazil</td>\n      <td>Costa Rica</td>\n      <td>2018</td>\n      <td>2</td>\n      <td>0</td>\n      <td>2</td>\n    </tr>\n    <tr>\n      <th>420</th>\n      <td>Serbia</td>\n      <td>Switzerland</td>\n      <td>2018</td>\n      <td>1</td>\n      <td>2</td>\n      <td>3</td>\n    </tr>\n    <tr>\n      <th>421</th>\n      <td>Serbia</td>\n      <td>Brazil</td>\n      <td>2018</td>\n      <td>0</td>\n      <td>2</td>\n      <td>2</td>\n    </tr>\n    <tr>\n      <th>408</th>\n      <td>France</td>\n      <td>Peru</td>\n      <td>2018</td>\n      <td>1</td>\n      <td>0</td>\n      <td>1</td>\n    </tr>\n    <tr>\n      <th>450</th>\n      <td>Brazil</td>\n      <td>Belgium</td>\n      <td>2018</td>\n      <td>1</td>\n      <td>2</td>\n      <td>3</td>\n    </tr>\n  </tbody>\n</table>\n<p>900 rows × 6 columns</p>\n</div>"
     },
     "execution_count": 140,
     "metadata": {},
     "output_type": "execute_result"
    }
   ],
   "source": [
    "df_historical_data"
   ],
   "metadata": {
    "collapsed": false
   }
  },
  {
   "cell_type": "markdown",
   "source": [
    "Exporting the cleaned data to csv file"
   ],
   "metadata": {
    "collapsed": false
   }
  },
  {
   "cell_type": "code",
   "execution_count": 141,
   "outputs": [],
   "source": [
    "df_historical_data.to_csv('clean_fifa_worldcup_matches.csv', index=False)\n",
    "df_fixture.to_csv('clean_fifa_worldcup_fixture.csv', index=False)"
   ],
   "metadata": {
    "collapsed": false
   }
  },
  {
   "cell_type": "markdown",
   "source": [
    "Verifying our data by checking number of matches played during each worldcup year"
   ],
   "metadata": {
    "collapsed": false
   }
  },
  {
   "cell_type": "code",
   "execution_count": 142,
   "outputs": [
    {
     "name": "stdout",
     "output_type": "stream",
     "text": [
      "1930 18\n",
      "1934 17\n",
      "1950 22\n",
      "1954 26\n",
      "1958 35\n",
      "1962 32\n",
      "1966 32\n",
      "1970 32\n",
      "1974 38\n",
      "1978 38\n",
      "1982 52\n",
      "1986 52\n",
      "1990 52\n",
      "2002 64\n",
      "2006 64\n",
      "2010 64\n",
      "2014 64\n",
      "2018 64\n"
     ]
    }
   ],
   "source": [
    "years = [1930, 1934, 1950, 1954, 1958, 1962, 1966, 1970, 1974, 1978, 1982, 1986, 1990, 2002, 2006, 2010, 2014, 2018]\n",
    "\n",
    "for year in years:\n",
    "    print(year, len(df_historical_data[df_historical_data['Year'] == year]))"
   ],
   "metadata": {
    "collapsed": false
   }
  },
  {
   "cell_type": "code",
   "execution_count": null,
   "outputs": [],
   "source": [],
   "metadata": {
    "collapsed": false
   }
  }
 ],
 "metadata": {
  "kernelspec": {
   "display_name": "Python 3",
   "language": "python",
   "name": "python3"
  },
  "language_info": {
   "codemirror_mode": {
    "name": "ipython",
    "version": 2
   },
   "file_extension": ".py",
   "mimetype": "text/x-python",
   "name": "python",
   "nbconvert_exporter": "python",
   "pygments_lexer": "ipython2",
   "version": "2.7.6"
  }
 },
 "nbformat": 4,
 "nbformat_minor": 0
}
