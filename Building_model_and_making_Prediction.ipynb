{
 "cells": [
  {
   "cell_type": "code",
   "execution_count": 1,
   "metadata": {
    "collapsed": true
   },
   "outputs": [],
   "source": [
    "import pandas as pd\n",
    "import pickle\n",
    "from scipy.stats import poisson"
   ]
  },
  {
   "cell_type": "code",
   "execution_count": 2,
   "outputs": [],
   "source": [
    "dict_table = pickle.load(open('dict_table', 'rb'))\n",
    "df_historical_data = pd.read_csv('clean_fifa_worldcup_matches.csv')\n",
    "df_fixtures = pd.read_csv('clean_fifa_worldcup_fixture.csv')"
   ],
   "metadata": {
    "collapsed": false
   }
  },
  {
   "cell_type": "markdown",
   "source": [
    "1. Calculating Team Strength"
   ],
   "metadata": {
    "collapsed": false
   }
  },
  {
   "cell_type": "markdown",
   "source": [
    "Spliting data in to df_home and df_away data frames"
   ],
   "metadata": {
    "collapsed": false
   }
  },
  {
   "cell_type": "code",
   "execution_count": 3,
   "outputs": [],
   "source": [
    "df_home = df_historical_data[['HomeTeam', 'HomeGoals', 'AwayGoals']]\n",
    "df_away = df_historical_data[['AwayTeam', 'HomeGoals', 'AwayGoals']]"
   ],
   "metadata": {
    "collapsed": false
   }
  },
  {
   "cell_type": "markdown",
   "source": [
    "Renaming the HOME and AWAY TEAMS as just TEAMS for better understanding"
   ],
   "metadata": {
    "collapsed": false
   }
  },
  {
   "cell_type": "code",
   "execution_count": 4,
   "outputs": [],
   "source": [
    "df_home = df_home.rename(columns={'HomeTeam': 'Team', 'HomeGoals': 'GoalsScored', 'AwayGoals': 'GoalsConceded'})\n",
    "df_away = df_away.rename(columns={'AwayTeam': 'Team', 'HomeGoals': 'GoalsConceded', 'AwayGoals': 'GoalsScored'})"
   ],
   "metadata": {
    "collapsed": false
   }
  },
  {
   "cell_type": "markdown",
   "source": [
    "Concatenate home and away data for getting the team strength"
   ],
   "metadata": {
    "collapsed": false
   }
  },
  {
   "cell_type": "code",
   "execution_count": 6,
   "outputs": [
    {
     "data": {
      "text/plain": "              GoalsScored  GoalsConceded\nTeam                                    \nAlgeria          1.000000       1.461538\nAngola           0.333333       0.666667\nArgentina        1.691358       1.148148\nAustralia        0.812500       1.937500\nAustria          1.482759       1.620690\n...                   ...            ...\nUruguay          1.553571       1.321429\nWales            0.800000       0.800000\nWest Germany     2.112903       1.241935\nYugoslavia       1.666667       1.272727\nZaire            0.000000       4.666667\n\n[85 rows x 2 columns]",
      "text/html": "<div>\n<style scoped>\n    .dataframe tbody tr th:only-of-type {\n        vertical-align: middle;\n    }\n\n    .dataframe tbody tr th {\n        vertical-align: top;\n    }\n\n    .dataframe thead th {\n        text-align: right;\n    }\n</style>\n<table border=\"1\" class=\"dataframe\">\n  <thead>\n    <tr style=\"text-align: right;\">\n      <th></th>\n      <th>GoalsScored</th>\n      <th>GoalsConceded</th>\n    </tr>\n    <tr>\n      <th>Team</th>\n      <th></th>\n      <th></th>\n    </tr>\n  </thead>\n  <tbody>\n    <tr>\n      <th>Algeria</th>\n      <td>1.000000</td>\n      <td>1.461538</td>\n    </tr>\n    <tr>\n      <th>Angola</th>\n      <td>0.333333</td>\n      <td>0.666667</td>\n    </tr>\n    <tr>\n      <th>Argentina</th>\n      <td>1.691358</td>\n      <td>1.148148</td>\n    </tr>\n    <tr>\n      <th>Australia</th>\n      <td>0.812500</td>\n      <td>1.937500</td>\n    </tr>\n    <tr>\n      <th>Austria</th>\n      <td>1.482759</td>\n      <td>1.620690</td>\n    </tr>\n    <tr>\n      <th>...</th>\n      <td>...</td>\n      <td>...</td>\n    </tr>\n    <tr>\n      <th>Uruguay</th>\n      <td>1.553571</td>\n      <td>1.321429</td>\n    </tr>\n    <tr>\n      <th>Wales</th>\n      <td>0.800000</td>\n      <td>0.800000</td>\n    </tr>\n    <tr>\n      <th>West Germany</th>\n      <td>2.112903</td>\n      <td>1.241935</td>\n    </tr>\n    <tr>\n      <th>Yugoslavia</th>\n      <td>1.666667</td>\n      <td>1.272727</td>\n    </tr>\n    <tr>\n      <th>Zaire</th>\n      <td>0.000000</td>\n      <td>4.666667</td>\n    </tr>\n  </tbody>\n</table>\n<p>85 rows × 2 columns</p>\n</div>"
     },
     "execution_count": 6,
     "metadata": {},
     "output_type": "execute_result"
    }
   ],
   "source": [
    "df_team_strength = pd.concat([df_home, df_away], ignore_index=True).groupby('Team').mean()\n",
    "df_team_strength"
   ],
   "metadata": {
    "collapsed": false
   }
  },
  {
   "cell_type": "markdown",
   "source": [
    "Create Function to give points to the team\n",
    ">> Choosing distrubution of points\n",
    ">>> 1. The number of events can be counted - for example -> number of goals scored\n",
    ">>> 2. the occurrence of event are independent - for example -> the goals scored by team is independent\n",
    ">>> 3. the rate at witch event occur is constant - for example -> the probability of score in one match is can be similar to goal scored in previous match\n",
    ">>> 4. two events cannot occur at exactly the same instant in time - for example -> both team can not score goals at same exact time"
   ],
   "metadata": {
    "collapsed": false
   }
  },
  {
   "cell_type": "code",
   "execution_count": 7,
   "outputs": [],
   "source": [
    "def predict_points(home, away):\n",
    "    if home in df_team_strength.index and away in df_team_strength.index:\n",
    "        # goals_scored * goals_conceded\n",
    "        # for Poisson Distribution in this case -> lamda is median of goals in 90 minutes for both teams and X is the no. of goals that can be scored in a match\n",
    "        lamb_home = df_team_strength.at[home, 'GoalsScored'] * df_team_strength.at[away, 'GoalsConceded']\n",
    "        lamb_away = df_team_strength.at[away, 'GoalsScored'] * df_team_strength.at[home, 'GoalsConceded']\n",
    "        prob_home, prob_away, prob_draw = 0,0,0\n",
    "        for x in range(0,11): # number of goals home team\n",
    "            for y in range(0,11): # number of goals away team\n",
    "                p = poisson.pmf(x, lamb_home) * poisson.pmf(y, lamb_away)\n",
    "                if x == y:\n",
    "                    prob_draw += p\n",
    "                elif x > y:\n",
    "                    prob_home += p\n",
    "                else:\n",
    "                    prob_away += p\n",
    "\n",
    "        points_home = 3 * prob_home + prob_draw\n",
    "        points_away = 3 * prob_away + prob_draw\n",
    "        return points_home, points_away\n",
    "    else:\n",
    "        return 0, 0\n"
   ],
   "metadata": {
    "collapsed": false
   }
  },
  {
   "cell_type": "markdown",
   "source": [
    "2. Testing the above Function"
   ],
   "metadata": {
    "collapsed": false
   }
  },
  {
   "cell_type": "code",
   "execution_count": 8,
   "outputs": [
    {
     "data": {
      "text/plain": "(2.3129151525530505, 0.5378377125059863)"
     },
     "execution_count": 8,
     "metadata": {},
     "output_type": "execute_result"
    }
   ],
   "source": [
    "# checking with Argentina - Mexico match prediction\n",
    "\n",
    "predict_points('Argentina', 'Mexico')"
   ],
   "metadata": {
    "collapsed": false
   }
  },
  {
   "cell_type": "markdown",
   "source": [
    "<h1> 3. Predicting the Worldcup 2022 </h1>"
   ],
   "metadata": {
    "collapsed": false
   }
  },
  {
   "cell_type": "markdown",
   "source": [
    "Building Group Stage from fixtures dataset"
   ],
   "metadata": {
    "collapsed": false
   }
  },
  {
   "cell_type": "code",
   "execution_count": 78,
   "outputs": [],
   "source": [
    "df_fixture_group_48 = df_fixtures[:48].copy()\n",
    "df_fixture_knockout = df_fixtures[48:56].copy()\n",
    "df_fixture_quarter = df_fixtures[56:60].copy()\n",
    "df_fixture_semi = df_fixtures[60:62].copy()\n",
    "df_fixture_final = df_fixtures[62:].copy()"
   ],
   "metadata": {
    "collapsed": false
   }
  },
  {
   "cell_type": "code",
   "execution_count": 79,
   "outputs": [
    {
     "data": {
      "text/plain": "        Home Team Match Scores      Away Team  year\n0           Qatar          0–2        Ecuador  2022\n1         Senegal          0–2    Netherlands  2022\n2           Qatar          1–3        Senegal  2022\n3     Netherlands          1–1        Ecuador  2022\n4         Ecuador          1–2        Senegal  2022\n5     Netherlands          2–0          Qatar  2022\n6         England          6–2           Iran  2022\n7   United States          1–1          Wales  2022\n8           Wales          0–2           Iran  2022\n9         England          0–0  United States  2022\n10          Wales          0–3        England  2022\n11           Iran          0–1  United States  2022\n12      Argentina          1–2   Saudi Arabia  2022\n13         Mexico          0–0         Poland  2022\n14         Poland          2–0   Saudi Arabia  2022\n15      Argentina          2–0         Mexico  2022\n16         Poland          0–2      Argentina  2022\n17   Saudi Arabia          1–2         Mexico  2022\n18        Denmark          0–0        Tunisia  2022\n19         France          4–1      Australia  2022\n20        Tunisia          0–1      Australia  2022\n21         France          2–1        Denmark  2022\n22      Australia          1–0        Denmark  2022\n23        Tunisia          1–0         France  2022\n24        Germany          1–2          Japan  2022\n25          Spain          7–0     Costa Rica  2022\n26          Japan          0–1     Costa Rica  2022\n27          Spain          1–1        Germany  2022\n28          Japan          2–1          Spain  2022\n29     Costa Rica          2–4        Germany  2022\n30        Morocco          0–0        Croatia  2022\n31        Belgium          1–0         Canada  2022\n32        Belgium          0–2        Morocco  2022\n33        Croatia          4–1         Canada  2022\n34        Croatia          0–0        Belgium  2022\n35         Canada          1–2        Morocco  2022\n36    Switzerland          1–0       Cameroon  2022\n37         Brazil          2–0         Serbia  2022\n38       Cameroon          3–3         Serbia  2022\n39         Brazil          1–0    Switzerland  2022\n40         Serbia          2–3    Switzerland  2022\n41       Cameroon          1–0         Brazil  2022\n42        Uruguay          0–0    South Korea  2022\n43       Portugal          3–2          Ghana  2022\n44    South Korea          2–3          Ghana  2022\n45       Portugal          2–0        Uruguay  2022\n46          Ghana          0–2        Uruguay  2022\n47    South Korea          2–1       Portugal  2022",
      "text/html": "<div>\n<style scoped>\n    .dataframe tbody tr th:only-of-type {\n        vertical-align: middle;\n    }\n\n    .dataframe tbody tr th {\n        vertical-align: top;\n    }\n\n    .dataframe thead th {\n        text-align: right;\n    }\n</style>\n<table border=\"1\" class=\"dataframe\">\n  <thead>\n    <tr style=\"text-align: right;\">\n      <th></th>\n      <th>Home Team</th>\n      <th>Match Scores</th>\n      <th>Away Team</th>\n      <th>year</th>\n    </tr>\n  </thead>\n  <tbody>\n    <tr>\n      <th>0</th>\n      <td>Qatar</td>\n      <td>0–2</td>\n      <td>Ecuador</td>\n      <td>2022</td>\n    </tr>\n    <tr>\n      <th>1</th>\n      <td>Senegal</td>\n      <td>0–2</td>\n      <td>Netherlands</td>\n      <td>2022</td>\n    </tr>\n    <tr>\n      <th>2</th>\n      <td>Qatar</td>\n      <td>1–3</td>\n      <td>Senegal</td>\n      <td>2022</td>\n    </tr>\n    <tr>\n      <th>3</th>\n      <td>Netherlands</td>\n      <td>1–1</td>\n      <td>Ecuador</td>\n      <td>2022</td>\n    </tr>\n    <tr>\n      <th>4</th>\n      <td>Ecuador</td>\n      <td>1–2</td>\n      <td>Senegal</td>\n      <td>2022</td>\n    </tr>\n    <tr>\n      <th>5</th>\n      <td>Netherlands</td>\n      <td>2–0</td>\n      <td>Qatar</td>\n      <td>2022</td>\n    </tr>\n    <tr>\n      <th>6</th>\n      <td>England</td>\n      <td>6–2</td>\n      <td>Iran</td>\n      <td>2022</td>\n    </tr>\n    <tr>\n      <th>7</th>\n      <td>United States</td>\n      <td>1–1</td>\n      <td>Wales</td>\n      <td>2022</td>\n    </tr>\n    <tr>\n      <th>8</th>\n      <td>Wales</td>\n      <td>0–2</td>\n      <td>Iran</td>\n      <td>2022</td>\n    </tr>\n    <tr>\n      <th>9</th>\n      <td>England</td>\n      <td>0–0</td>\n      <td>United States</td>\n      <td>2022</td>\n    </tr>\n    <tr>\n      <th>10</th>\n      <td>Wales</td>\n      <td>0–3</td>\n      <td>England</td>\n      <td>2022</td>\n    </tr>\n    <tr>\n      <th>11</th>\n      <td>Iran</td>\n      <td>0–1</td>\n      <td>United States</td>\n      <td>2022</td>\n    </tr>\n    <tr>\n      <th>12</th>\n      <td>Argentina</td>\n      <td>1–2</td>\n      <td>Saudi Arabia</td>\n      <td>2022</td>\n    </tr>\n    <tr>\n      <th>13</th>\n      <td>Mexico</td>\n      <td>0–0</td>\n      <td>Poland</td>\n      <td>2022</td>\n    </tr>\n    <tr>\n      <th>14</th>\n      <td>Poland</td>\n      <td>2–0</td>\n      <td>Saudi Arabia</td>\n      <td>2022</td>\n    </tr>\n    <tr>\n      <th>15</th>\n      <td>Argentina</td>\n      <td>2–0</td>\n      <td>Mexico</td>\n      <td>2022</td>\n    </tr>\n    <tr>\n      <th>16</th>\n      <td>Poland</td>\n      <td>0–2</td>\n      <td>Argentina</td>\n      <td>2022</td>\n    </tr>\n    <tr>\n      <th>17</th>\n      <td>Saudi Arabia</td>\n      <td>1–2</td>\n      <td>Mexico</td>\n      <td>2022</td>\n    </tr>\n    <tr>\n      <th>18</th>\n      <td>Denmark</td>\n      <td>0–0</td>\n      <td>Tunisia</td>\n      <td>2022</td>\n    </tr>\n    <tr>\n      <th>19</th>\n      <td>France</td>\n      <td>4–1</td>\n      <td>Australia</td>\n      <td>2022</td>\n    </tr>\n    <tr>\n      <th>20</th>\n      <td>Tunisia</td>\n      <td>0–1</td>\n      <td>Australia</td>\n      <td>2022</td>\n    </tr>\n    <tr>\n      <th>21</th>\n      <td>France</td>\n      <td>2–1</td>\n      <td>Denmark</td>\n      <td>2022</td>\n    </tr>\n    <tr>\n      <th>22</th>\n      <td>Australia</td>\n      <td>1–0</td>\n      <td>Denmark</td>\n      <td>2022</td>\n    </tr>\n    <tr>\n      <th>23</th>\n      <td>Tunisia</td>\n      <td>1–0</td>\n      <td>France</td>\n      <td>2022</td>\n    </tr>\n    <tr>\n      <th>24</th>\n      <td>Germany</td>\n      <td>1–2</td>\n      <td>Japan</td>\n      <td>2022</td>\n    </tr>\n    <tr>\n      <th>25</th>\n      <td>Spain</td>\n      <td>7–0</td>\n      <td>Costa Rica</td>\n      <td>2022</td>\n    </tr>\n    <tr>\n      <th>26</th>\n      <td>Japan</td>\n      <td>0–1</td>\n      <td>Costa Rica</td>\n      <td>2022</td>\n    </tr>\n    <tr>\n      <th>27</th>\n      <td>Spain</td>\n      <td>1–1</td>\n      <td>Germany</td>\n      <td>2022</td>\n    </tr>\n    <tr>\n      <th>28</th>\n      <td>Japan</td>\n      <td>2–1</td>\n      <td>Spain</td>\n      <td>2022</td>\n    </tr>\n    <tr>\n      <th>29</th>\n      <td>Costa Rica</td>\n      <td>2–4</td>\n      <td>Germany</td>\n      <td>2022</td>\n    </tr>\n    <tr>\n      <th>30</th>\n      <td>Morocco</td>\n      <td>0–0</td>\n      <td>Croatia</td>\n      <td>2022</td>\n    </tr>\n    <tr>\n      <th>31</th>\n      <td>Belgium</td>\n      <td>1–0</td>\n      <td>Canada</td>\n      <td>2022</td>\n    </tr>\n    <tr>\n      <th>32</th>\n      <td>Belgium</td>\n      <td>0–2</td>\n      <td>Morocco</td>\n      <td>2022</td>\n    </tr>\n    <tr>\n      <th>33</th>\n      <td>Croatia</td>\n      <td>4–1</td>\n      <td>Canada</td>\n      <td>2022</td>\n    </tr>\n    <tr>\n      <th>34</th>\n      <td>Croatia</td>\n      <td>0–0</td>\n      <td>Belgium</td>\n      <td>2022</td>\n    </tr>\n    <tr>\n      <th>35</th>\n      <td>Canada</td>\n      <td>1–2</td>\n      <td>Morocco</td>\n      <td>2022</td>\n    </tr>\n    <tr>\n      <th>36</th>\n      <td>Switzerland</td>\n      <td>1–0</td>\n      <td>Cameroon</td>\n      <td>2022</td>\n    </tr>\n    <tr>\n      <th>37</th>\n      <td>Brazil</td>\n      <td>2–0</td>\n      <td>Serbia</td>\n      <td>2022</td>\n    </tr>\n    <tr>\n      <th>38</th>\n      <td>Cameroon</td>\n      <td>3–3</td>\n      <td>Serbia</td>\n      <td>2022</td>\n    </tr>\n    <tr>\n      <th>39</th>\n      <td>Brazil</td>\n      <td>1–0</td>\n      <td>Switzerland</td>\n      <td>2022</td>\n    </tr>\n    <tr>\n      <th>40</th>\n      <td>Serbia</td>\n      <td>2–3</td>\n      <td>Switzerland</td>\n      <td>2022</td>\n    </tr>\n    <tr>\n      <th>41</th>\n      <td>Cameroon</td>\n      <td>1–0</td>\n      <td>Brazil</td>\n      <td>2022</td>\n    </tr>\n    <tr>\n      <th>42</th>\n      <td>Uruguay</td>\n      <td>0–0</td>\n      <td>South Korea</td>\n      <td>2022</td>\n    </tr>\n    <tr>\n      <th>43</th>\n      <td>Portugal</td>\n      <td>3–2</td>\n      <td>Ghana</td>\n      <td>2022</td>\n    </tr>\n    <tr>\n      <th>44</th>\n      <td>South Korea</td>\n      <td>2–3</td>\n      <td>Ghana</td>\n      <td>2022</td>\n    </tr>\n    <tr>\n      <th>45</th>\n      <td>Portugal</td>\n      <td>2–0</td>\n      <td>Uruguay</td>\n      <td>2022</td>\n    </tr>\n    <tr>\n      <th>46</th>\n      <td>Ghana</td>\n      <td>0–2</td>\n      <td>Uruguay</td>\n      <td>2022</td>\n    </tr>\n    <tr>\n      <th>47</th>\n      <td>South Korea</td>\n      <td>2–1</td>\n      <td>Portugal</td>\n      <td>2022</td>\n    </tr>\n  </tbody>\n</table>\n</div>"
     },
     "execution_count": 79,
     "metadata": {},
     "output_type": "execute_result"
    }
   ],
   "source": [
    "df_fixture_group_48"
   ],
   "metadata": {
    "collapsed": false
   }
  },
  {
   "cell_type": "markdown",
   "source": [
    "Running all the matches in the group stage and updating the table"
   ],
   "metadata": {
    "collapsed": false
   }
  },
  {
   "cell_type": "code",
   "execution_count": 80,
   "outputs": [
    {
     "name": "stdout",
     "output_type": "stream",
     "text": [
      "['Netherlands' 'Senegal' 'Ecuador' 'Qatar (H)']\n",
      "['England' 'Wales' 'United States' 'Iran']\n",
      "['Argentina' 'Poland' 'Mexico' 'Saudi Arabia']\n",
      "['France' 'Denmark' 'Tunisia' 'Australia']\n",
      "['Germany' 'Spain' 'Japan' 'Costa Rica']\n",
      "['Croatia' 'Belgium' 'Morocco' 'Canada']\n",
      "['Brazil' 'Switzerland' 'Serbia' 'Cameroon']\n",
      "['Portugal' 'Uruguay' 'Ghana' 'South Korea']\n"
     ]
    }
   ],
   "source": [
    "for group in dict_table:\n",
    "    print(dict_table[group]['Team'].values)"
   ],
   "metadata": {
    "collapsed": false
   }
  },
  {
   "cell_type": "code",
   "execution_count": 81,
   "outputs": [],
   "source": [
    "for group in dict_table:\n",
    "    teams_in_group = dict_table[group]['Team'].values\n",
    "    df_fixture_group_6 = df_fixture_group_48[df_fixture_group_48['Home Team'].isin(teams_in_group)]\n",
    "    for index, row in df_fixture_group_6.iterrows():\n",
    "        home, away = row['Home Team'], row['Away Team']\n",
    "        points_home, points_away = predict_points(home, away)\n",
    "        dict_table[group].loc[dict_table[group]['Team'] == home, 'Pts'] += points_home\n",
    "        dict_table[group].loc[dict_table[group]['Team'] == away, 'Pts'] += points_away\n",
    "\n",
    "    dict_table[group] = dict_table[group].sort_values('Pts', ascending=False).reset_index()\n",
    "    dict_table[group] = dict_table[group][['Team', 'Pts']]\n",
    "    dict_table[group] = dict_table[group].round(0)"
   ],
   "metadata": {
    "collapsed": false
   }
  },
  {
   "cell_type": "code",
   "execution_count": 82,
   "outputs": [
    {
     "data": {
      "text/plain": "          Team   Pts\n0  Netherlands  31.0\n1      Senegal  18.0\n2      Ecuador  16.0\n3    Qatar (H)   0.0",
      "text/html": "<div>\n<style scoped>\n    .dataframe tbody tr th:only-of-type {\n        vertical-align: middle;\n    }\n\n    .dataframe tbody tr th {\n        vertical-align: top;\n    }\n\n    .dataframe thead th {\n        text-align: right;\n    }\n</style>\n<table border=\"1\" class=\"dataframe\">\n  <thead>\n    <tr style=\"text-align: right;\">\n      <th></th>\n      <th>Team</th>\n      <th>Pts</th>\n    </tr>\n  </thead>\n  <tbody>\n    <tr>\n      <th>0</th>\n      <td>Netherlands</td>\n      <td>31.0</td>\n    </tr>\n    <tr>\n      <th>1</th>\n      <td>Senegal</td>\n      <td>18.0</td>\n    </tr>\n    <tr>\n      <th>2</th>\n      <td>Ecuador</td>\n      <td>16.0</td>\n    </tr>\n    <tr>\n      <th>3</th>\n      <td>Qatar (H)</td>\n      <td>0.0</td>\n    </tr>\n  </tbody>\n</table>\n</div>"
     },
     "execution_count": 82,
     "metadata": {},
     "output_type": "execute_result"
    }
   ],
   "source": [
    "# checking Updated table\n",
    "dict_table['Group A']"
   ],
   "metadata": {
    "collapsed": false
   }
  },
  {
   "cell_type": "code",
   "execution_count": 83,
   "outputs": [
    {
     "data": {
      "text/plain": "      Home Team Match Scores      Away Team  year\n48  Netherlands          3–1  United States  2022\n49    Argentina          2–1      Australia  2022\n50       France          3–1         Poland  2022\n51      England          3–0        Senegal  2022\n52        Japan          1–1        Croatia  2022\n53       Brazil          4–1    South Korea  2022\n54      Morocco          0–0          Spain  2022\n55     Portugal          6–1    Switzerland  2022",
      "text/html": "<div>\n<style scoped>\n    .dataframe tbody tr th:only-of-type {\n        vertical-align: middle;\n    }\n\n    .dataframe tbody tr th {\n        vertical-align: top;\n    }\n\n    .dataframe thead th {\n        text-align: right;\n    }\n</style>\n<table border=\"1\" class=\"dataframe\">\n  <thead>\n    <tr style=\"text-align: right;\">\n      <th></th>\n      <th>Home Team</th>\n      <th>Match Scores</th>\n      <th>Away Team</th>\n      <th>year</th>\n    </tr>\n  </thead>\n  <tbody>\n    <tr>\n      <th>48</th>\n      <td>Netherlands</td>\n      <td>3–1</td>\n      <td>United States</td>\n      <td>2022</td>\n    </tr>\n    <tr>\n      <th>49</th>\n      <td>Argentina</td>\n      <td>2–1</td>\n      <td>Australia</td>\n      <td>2022</td>\n    </tr>\n    <tr>\n      <th>50</th>\n      <td>France</td>\n      <td>3–1</td>\n      <td>Poland</td>\n      <td>2022</td>\n    </tr>\n    <tr>\n      <th>51</th>\n      <td>England</td>\n      <td>3–0</td>\n      <td>Senegal</td>\n      <td>2022</td>\n    </tr>\n    <tr>\n      <th>52</th>\n      <td>Japan</td>\n      <td>1–1</td>\n      <td>Croatia</td>\n      <td>2022</td>\n    </tr>\n    <tr>\n      <th>53</th>\n      <td>Brazil</td>\n      <td>4–1</td>\n      <td>South Korea</td>\n      <td>2022</td>\n    </tr>\n    <tr>\n      <th>54</th>\n      <td>Morocco</td>\n      <td>0–0</td>\n      <td>Spain</td>\n      <td>2022</td>\n    </tr>\n    <tr>\n      <th>55</th>\n      <td>Portugal</td>\n      <td>6–1</td>\n      <td>Switzerland</td>\n      <td>2022</td>\n    </tr>\n  </tbody>\n</table>\n</div>"
     },
     "execution_count": 83,
     "metadata": {},
     "output_type": "execute_result"
    }
   ],
   "source": [
    "df_fixture_knockout"
   ],
   "metadata": {
    "collapsed": false
   }
  },
  {
   "cell_type": "code",
   "execution_count": 84,
   "outputs": [
    {
     "data": {
      "text/plain": "      Home Team Match Scores      Away Team  year winner\n48  Netherlands          3–1  United States  2022      ?\n49    Argentina          2–1      Australia  2022      ?\n50       France          3–1         Poland  2022      ?\n51      England          3–0        Senegal  2022      ?\n52        Japan          1–1        Croatia  2022      ?\n53       Brazil          4–1    South Korea  2022      ?\n54      Morocco          0–0          Spain  2022      ?\n55     Portugal          6–1    Switzerland  2022      ?",
      "text/html": "<div>\n<style scoped>\n    .dataframe tbody tr th:only-of-type {\n        vertical-align: middle;\n    }\n\n    .dataframe tbody tr th {\n        vertical-align: top;\n    }\n\n    .dataframe thead th {\n        text-align: right;\n    }\n</style>\n<table border=\"1\" class=\"dataframe\">\n  <thead>\n    <tr style=\"text-align: right;\">\n      <th></th>\n      <th>Home Team</th>\n      <th>Match Scores</th>\n      <th>Away Team</th>\n      <th>year</th>\n      <th>winner</th>\n    </tr>\n  </thead>\n  <tbody>\n    <tr>\n      <th>48</th>\n      <td>Netherlands</td>\n      <td>3–1</td>\n      <td>United States</td>\n      <td>2022</td>\n      <td>?</td>\n    </tr>\n    <tr>\n      <th>49</th>\n      <td>Argentina</td>\n      <td>2–1</td>\n      <td>Australia</td>\n      <td>2022</td>\n      <td>?</td>\n    </tr>\n    <tr>\n      <th>50</th>\n      <td>France</td>\n      <td>3–1</td>\n      <td>Poland</td>\n      <td>2022</td>\n      <td>?</td>\n    </tr>\n    <tr>\n      <th>51</th>\n      <td>England</td>\n      <td>3–0</td>\n      <td>Senegal</td>\n      <td>2022</td>\n      <td>?</td>\n    </tr>\n    <tr>\n      <th>52</th>\n      <td>Japan</td>\n      <td>1–1</td>\n      <td>Croatia</td>\n      <td>2022</td>\n      <td>?</td>\n    </tr>\n    <tr>\n      <th>53</th>\n      <td>Brazil</td>\n      <td>4–1</td>\n      <td>South Korea</td>\n      <td>2022</td>\n      <td>?</td>\n    </tr>\n    <tr>\n      <th>54</th>\n      <td>Morocco</td>\n      <td>0–0</td>\n      <td>Spain</td>\n      <td>2022</td>\n      <td>?</td>\n    </tr>\n    <tr>\n      <th>55</th>\n      <td>Portugal</td>\n      <td>6–1</td>\n      <td>Switzerland</td>\n      <td>2022</td>\n      <td>?</td>\n    </tr>\n  </tbody>\n</table>\n</div>"
     },
     "execution_count": 84,
     "metadata": {},
     "output_type": "execute_result"
    }
   ],
   "source": [
    "# update the knockout fixture with group winner and runner-up\n",
    "for group in dict_table:\n",
    "    group_winner = dict_table[group].loc[0, 'Team']\n",
    "    runner_up = dict_table[group].loc[1, 'Team']\n",
    "    df_fixture_knockout.replace({f'Winners{group}': group_winner, f'Runner-up{group}': runner_up}, inplace=True)\n",
    "df_fixture_knockout['winner'] = '?'\n",
    "df_fixture_knockout\n"
   ],
   "metadata": {
    "collapsed": false
   }
  },
  {
   "cell_type": "markdown",
   "source": [
    "\n",
    "Knockout stage predicton"
   ],
   "metadata": {
    "collapsed": false
   }
  },
  {
   "cell_type": "code",
   "execution_count": 89,
   "outputs": [],
   "source": [
    "# create get_winner Function\n",
    "def get_winner(df_fixture_updated):\n",
    "    for index, row in df_fixture_updated.iterrows():\n",
    "        home, away  = row['Home Team'], row['Away Team']\n",
    "        points_home, points_away = predict_points(home, away)\n",
    "        if points_home > points_away:\n",
    "            winner = home\n",
    "        else:\n",
    "            winner = away\n",
    "    df_fixture_updated.loc[index, 'winner'] = winner\n",
    "    return df_fixture_updated"
   ],
   "metadata": {
    "collapsed": false
   }
  },
  {
   "cell_type": "code",
   "execution_count": 90,
   "outputs": [
    {
     "data": {
      "text/plain": "      Home Team Match Scores      Away Team  year    winner\n48  Netherlands          3–1  United States  2022         ?\n49    Argentina          2–1      Australia  2022         ?\n50       France          3–1         Poland  2022         ?\n51      England          3–0        Senegal  2022         ?\n52        Japan          1–1        Croatia  2022   Croatia\n53       Brazil          4–1    South Korea  2022         ?\n54      Morocco          0–0          Spain  2022     Spain\n55     Portugal          6–1    Switzerland  2022  Portugal",
      "text/html": "<div>\n<style scoped>\n    .dataframe tbody tr th:only-of-type {\n        vertical-align: middle;\n    }\n\n    .dataframe tbody tr th {\n        vertical-align: top;\n    }\n\n    .dataframe thead th {\n        text-align: right;\n    }\n</style>\n<table border=\"1\" class=\"dataframe\">\n  <thead>\n    <tr style=\"text-align: right;\">\n      <th></th>\n      <th>Home Team</th>\n      <th>Match Scores</th>\n      <th>Away Team</th>\n      <th>year</th>\n      <th>winner</th>\n    </tr>\n  </thead>\n  <tbody>\n    <tr>\n      <th>48</th>\n      <td>Netherlands</td>\n      <td>3–1</td>\n      <td>United States</td>\n      <td>2022</td>\n      <td>?</td>\n    </tr>\n    <tr>\n      <th>49</th>\n      <td>Argentina</td>\n      <td>2–1</td>\n      <td>Australia</td>\n      <td>2022</td>\n      <td>?</td>\n    </tr>\n    <tr>\n      <th>50</th>\n      <td>France</td>\n      <td>3–1</td>\n      <td>Poland</td>\n      <td>2022</td>\n      <td>?</td>\n    </tr>\n    <tr>\n      <th>51</th>\n      <td>England</td>\n      <td>3–0</td>\n      <td>Senegal</td>\n      <td>2022</td>\n      <td>?</td>\n    </tr>\n    <tr>\n      <th>52</th>\n      <td>Japan</td>\n      <td>1–1</td>\n      <td>Croatia</td>\n      <td>2022</td>\n      <td>Croatia</td>\n    </tr>\n    <tr>\n      <th>53</th>\n      <td>Brazil</td>\n      <td>4–1</td>\n      <td>South Korea</td>\n      <td>2022</td>\n      <td>?</td>\n    </tr>\n    <tr>\n      <th>54</th>\n      <td>Morocco</td>\n      <td>0–0</td>\n      <td>Spain</td>\n      <td>2022</td>\n      <td>Spain</td>\n    </tr>\n    <tr>\n      <th>55</th>\n      <td>Portugal</td>\n      <td>6–1</td>\n      <td>Switzerland</td>\n      <td>2022</td>\n      <td>Portugal</td>\n    </tr>\n  </tbody>\n</table>\n</div>"
     },
     "execution_count": 90,
     "metadata": {},
     "output_type": "execute_result"
    }
   ],
   "source": [
    "get_winner(df_fixture_knockout)"
   ],
   "metadata": {
    "collapsed": false
   }
  },
  {
   "cell_type": "markdown",
   "source": [
    "Quarter Final Prediction"
   ],
   "metadata": {
    "collapsed": false
   }
  },
  {
   "cell_type": "code",
   "execution_count": 93,
   "outputs": [],
   "source": [
    "def update_table(df_fixture_round_1, df_fixture_round_2):\n",
    "    for index, row in df_fixture_round_1.iterrows():\n",
    "        winner = df_fixture_round_1.loc[index, 'winner']\n",
    "        match = df_fixture_round_1.loc[index, 'winner']\n",
    "        df_fixture_round_2.replace({f'Winners {match}':winner}, inplace=True)\n",
    "    df_fixture_round_2['winner'] = '?'\n",
    "    return df_fixture_round_2"
   ],
   "metadata": {
    "collapsed": false
   }
  },
  {
   "cell_type": "code",
   "execution_count": 94,
   "outputs": [
    {
     "data": {
      "text/plain": "      Home Team Match Scores  Away Team  year winner\n56      Croatia          1–1     Brazil  2022      ?\n57  Netherlands          2–2  Argentina  2022      ?\n58      Morocco          1–0   Portugal  2022      ?\n59      England          1–2     France  2022      ?",
      "text/html": "<div>\n<style scoped>\n    .dataframe tbody tr th:only-of-type {\n        vertical-align: middle;\n    }\n\n    .dataframe tbody tr th {\n        vertical-align: top;\n    }\n\n    .dataframe thead th {\n        text-align: right;\n    }\n</style>\n<table border=\"1\" class=\"dataframe\">\n  <thead>\n    <tr style=\"text-align: right;\">\n      <th></th>\n      <th>Home Team</th>\n      <th>Match Scores</th>\n      <th>Away Team</th>\n      <th>year</th>\n      <th>winner</th>\n    </tr>\n  </thead>\n  <tbody>\n    <tr>\n      <th>56</th>\n      <td>Croatia</td>\n      <td>1–1</td>\n      <td>Brazil</td>\n      <td>2022</td>\n      <td>?</td>\n    </tr>\n    <tr>\n      <th>57</th>\n      <td>Netherlands</td>\n      <td>2–2</td>\n      <td>Argentina</td>\n      <td>2022</td>\n      <td>?</td>\n    </tr>\n    <tr>\n      <th>58</th>\n      <td>Morocco</td>\n      <td>1–0</td>\n      <td>Portugal</td>\n      <td>2022</td>\n      <td>?</td>\n    </tr>\n    <tr>\n      <th>59</th>\n      <td>England</td>\n      <td>1–2</td>\n      <td>France</td>\n      <td>2022</td>\n      <td>?</td>\n    </tr>\n  </tbody>\n</table>\n</div>"
     },
     "execution_count": 94,
     "metadata": {},
     "output_type": "execute_result"
    }
   ],
   "source": [
    "update_table(df_fixture_knockout, df_fixture_quarter)"
   ],
   "metadata": {
    "collapsed": false
   }
  },
  {
   "cell_type": "code",
   "execution_count": 95,
   "outputs": [
    {
     "data": {
      "text/plain": "      Home Team Match Scores  Away Team  year  winner\n56      Croatia          1–1     Brazil  2022       ?\n57  Netherlands          2–2  Argentina  2022       ?\n58      Morocco          1–0   Portugal  2022       ?\n59      England          1–2     France  2022  France",
      "text/html": "<div>\n<style scoped>\n    .dataframe tbody tr th:only-of-type {\n        vertical-align: middle;\n    }\n\n    .dataframe tbody tr th {\n        vertical-align: top;\n    }\n\n    .dataframe thead th {\n        text-align: right;\n    }\n</style>\n<table border=\"1\" class=\"dataframe\">\n  <thead>\n    <tr style=\"text-align: right;\">\n      <th></th>\n      <th>Home Team</th>\n      <th>Match Scores</th>\n      <th>Away Team</th>\n      <th>year</th>\n      <th>winner</th>\n    </tr>\n  </thead>\n  <tbody>\n    <tr>\n      <th>56</th>\n      <td>Croatia</td>\n      <td>1–1</td>\n      <td>Brazil</td>\n      <td>2022</td>\n      <td>?</td>\n    </tr>\n    <tr>\n      <th>57</th>\n      <td>Netherlands</td>\n      <td>2–2</td>\n      <td>Argentina</td>\n      <td>2022</td>\n      <td>?</td>\n    </tr>\n    <tr>\n      <th>58</th>\n      <td>Morocco</td>\n      <td>1–0</td>\n      <td>Portugal</td>\n      <td>2022</td>\n      <td>?</td>\n    </tr>\n    <tr>\n      <th>59</th>\n      <td>England</td>\n      <td>1–2</td>\n      <td>France</td>\n      <td>2022</td>\n      <td>France</td>\n    </tr>\n  </tbody>\n</table>\n</div>"
     },
     "execution_count": 95,
     "metadata": {},
     "output_type": "execute_result"
    }
   ],
   "source": [
    "get_winner(df_fixture_quarter)"
   ],
   "metadata": {
    "collapsed": false
   }
  },
  {
   "cell_type": "markdown",
   "source": [
    "Semi Final prediction"
   ],
   "metadata": {
    "collapsed": false
   }
  },
  {
   "cell_type": "code",
   "execution_count": 96,
   "outputs": [
    {
     "data": {
      "text/plain": "    Home Team Match Scores Away Team  year winner\n60  Argentina          3–0   Croatia  2022      ?\n61     France          2–0   Morocco  2022      ?",
      "text/html": "<div>\n<style scoped>\n    .dataframe tbody tr th:only-of-type {\n        vertical-align: middle;\n    }\n\n    .dataframe tbody tr th {\n        vertical-align: top;\n    }\n\n    .dataframe thead th {\n        text-align: right;\n    }\n</style>\n<table border=\"1\" class=\"dataframe\">\n  <thead>\n    <tr style=\"text-align: right;\">\n      <th></th>\n      <th>Home Team</th>\n      <th>Match Scores</th>\n      <th>Away Team</th>\n      <th>year</th>\n      <th>winner</th>\n    </tr>\n  </thead>\n  <tbody>\n    <tr>\n      <th>60</th>\n      <td>Argentina</td>\n      <td>3–0</td>\n      <td>Croatia</td>\n      <td>2022</td>\n      <td>?</td>\n    </tr>\n    <tr>\n      <th>61</th>\n      <td>France</td>\n      <td>2–0</td>\n      <td>Morocco</td>\n      <td>2022</td>\n      <td>?</td>\n    </tr>\n  </tbody>\n</table>\n</div>"
     },
     "execution_count": 96,
     "metadata": {},
     "output_type": "execute_result"
    }
   ],
   "source": [
    "update_table(df_fixture_quarter, df_fixture_semi)"
   ],
   "metadata": {
    "collapsed": false
   }
  },
  {
   "cell_type": "code",
   "execution_count": 97,
   "outputs": [
    {
     "data": {
      "text/plain": "    Home Team Match Scores Away Team  year  winner\n60  Argentina          3–0   Croatia  2022       ?\n61     France          2–0   Morocco  2022  France",
      "text/html": "<div>\n<style scoped>\n    .dataframe tbody tr th:only-of-type {\n        vertical-align: middle;\n    }\n\n    .dataframe tbody tr th {\n        vertical-align: top;\n    }\n\n    .dataframe thead th {\n        text-align: right;\n    }\n</style>\n<table border=\"1\" class=\"dataframe\">\n  <thead>\n    <tr style=\"text-align: right;\">\n      <th></th>\n      <th>Home Team</th>\n      <th>Match Scores</th>\n      <th>Away Team</th>\n      <th>year</th>\n      <th>winner</th>\n    </tr>\n  </thead>\n  <tbody>\n    <tr>\n      <th>60</th>\n      <td>Argentina</td>\n      <td>3–0</td>\n      <td>Croatia</td>\n      <td>2022</td>\n      <td>?</td>\n    </tr>\n    <tr>\n      <th>61</th>\n      <td>France</td>\n      <td>2–0</td>\n      <td>Morocco</td>\n      <td>2022</td>\n      <td>France</td>\n    </tr>\n  </tbody>\n</table>\n</div>"
     },
     "execution_count": 97,
     "metadata": {},
     "output_type": "execute_result"
    }
   ],
   "source": [
    "get_winner(df_fixture_semi)"
   ],
   "metadata": {
    "collapsed": false
   }
  },
  {
   "cell_type": "code",
   "execution_count": 98,
   "outputs": [
    {
     "data": {
      "text/plain": "    Home Team  Match Scores Away Team  year winner\n62    Croatia           2–1   Morocco  2022      ?\n63  Argentina  3–3 (a.e.t.)    France  2022      ?",
      "text/html": "<div>\n<style scoped>\n    .dataframe tbody tr th:only-of-type {\n        vertical-align: middle;\n    }\n\n    .dataframe tbody tr th {\n        vertical-align: top;\n    }\n\n    .dataframe thead th {\n        text-align: right;\n    }\n</style>\n<table border=\"1\" class=\"dataframe\">\n  <thead>\n    <tr style=\"text-align: right;\">\n      <th></th>\n      <th>Home Team</th>\n      <th>Match Scores</th>\n      <th>Away Team</th>\n      <th>year</th>\n      <th>winner</th>\n    </tr>\n  </thead>\n  <tbody>\n    <tr>\n      <th>62</th>\n      <td>Croatia</td>\n      <td>2–1</td>\n      <td>Morocco</td>\n      <td>2022</td>\n      <td>?</td>\n    </tr>\n    <tr>\n      <th>63</th>\n      <td>Argentina</td>\n      <td>3–3 (a.e.t.)</td>\n      <td>France</td>\n      <td>2022</td>\n      <td>?</td>\n    </tr>\n  </tbody>\n</table>\n</div>"
     },
     "execution_count": 98,
     "metadata": {},
     "output_type": "execute_result"
    }
   ],
   "source": [
    "update_table(df_fixture_semi, df_fixture_final)"
   ],
   "metadata": {
    "collapsed": false
   }
  },
  {
   "cell_type": "code",
   "execution_count": 77,
   "outputs": [
    {
     "data": {
      "text/plain": "    Home Team  Match Scores Away Team  year  winner\n62    Croatia           2–1   Morocco  2022       ?\n63  Argentina  3–3 (a.e.t.)    France  2022  France",
      "text/html": "<div>\n<style scoped>\n    .dataframe tbody tr th:only-of-type {\n        vertical-align: middle;\n    }\n\n    .dataframe tbody tr th {\n        vertical-align: top;\n    }\n\n    .dataframe thead th {\n        text-align: right;\n    }\n</style>\n<table border=\"1\" class=\"dataframe\">\n  <thead>\n    <tr style=\"text-align: right;\">\n      <th></th>\n      <th>Home Team</th>\n      <th>Match Scores</th>\n      <th>Away Team</th>\n      <th>year</th>\n      <th>winner</th>\n    </tr>\n  </thead>\n  <tbody>\n    <tr>\n      <th>62</th>\n      <td>Croatia</td>\n      <td>2–1</td>\n      <td>Morocco</td>\n      <td>2022</td>\n      <td>?</td>\n    </tr>\n    <tr>\n      <th>63</th>\n      <td>Argentina</td>\n      <td>3–3 (a.e.t.)</td>\n      <td>France</td>\n      <td>2022</td>\n      <td>France</td>\n    </tr>\n  </tbody>\n</table>\n</div>"
     },
     "execution_count": 77,
     "metadata": {},
     "output_type": "execute_result"
    }
   ],
   "source": [
    "get_winner(df_fixture_final)"
   ],
   "metadata": {
    "collapsed": false
   }
  },
  {
   "cell_type": "code",
   "execution_count": null,
   "outputs": [],
   "source": [],
   "metadata": {
    "collapsed": false
   }
  }
 ],
 "metadata": {
  "kernelspec": {
   "display_name": "Python 3",
   "language": "python",
   "name": "python3"
  },
  "language_info": {
   "codemirror_mode": {
    "name": "ipython",
    "version": 2
   },
   "file_extension": ".py",
   "mimetype": "text/x-python",
   "name": "python",
   "nbconvert_exporter": "python",
   "pygments_lexer": "ipython2",
   "version": "2.7.6"
  }
 },
 "nbformat": 4,
 "nbformat_minor": 0
}
